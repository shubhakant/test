{
  "cells": [
    {
      "cell_type": "code",
      "execution_count": 1,
      "metadata": {
        "id": "YiBRTloCmGU7",
        "outputId": "12838159-0952-4b7d-c84d-88cc0e3f6060",
        "colab": {
          "base_uri": "https://localhost:8080/"
        }
      },
      "outputs": [
        {
          "output_type": "stream",
          "name": "stdout",
          "text": [
            "Cloning into 'Traffic-Sign-Recognition'...\n",
            "remote: Enumerating objects: 51941, done.\u001b[K\n",
            "remote: Total 51941 (delta 0), reused 0 (delta 0), pack-reused 51941\u001b[K\n",
            "Receiving objects: 100% (51941/51941), 304.72 MiB | 16.11 MiB/s, done.\n",
            "Checking out files: 100% (103779/103779), done.\n"
          ]
        }
      ],
      "source": [
        "!git clone https://github.com/aebyy/Traffic-Sign-Recognition.git"
      ]
    },
    {
      "cell_type": "code",
      "execution_count": 3,
      "metadata": {
        "id": "chTxW5ppmGU-"
      },
      "outputs": [],
      "source": [
        "import numpy as np \n",
        "import pandas as pd \n",
        "import matplotlib.pyplot as plt\n",
        "import cv2\n",
        "import tensorflow as tf\n",
        "from PIL import Image\n",
        "import os\n",
        "from sklearn.model_selection import train_test_split\n",
        "from tensorflow.keras.utils import to_categorical\n",
        "from keras.models import Sequential, load_model\n",
        "from keras.layers import Conv2D, MaxPool2D, Dense, Flatten, Dropout\n"
      ]
    },
    {
      "cell_type": "code",
      "execution_count": 7,
      "metadata": {
        "id": "_cVoXprBmGVB",
        "outputId": "9c2ce63d-6605-4c63-f24a-94522dafdfc3",
        "colab": {
          "base_uri": "https://localhost:8080/"
        }
      },
      "outputs": [
        {
          "output_type": "stream",
          "name": "stdout",
          "text": [
            "/content\n"
          ]
        }
      ],
      "source": [
        "data = []\n",
        "labels = []\n",
        "classes = 43\n",
        "cur_path = os.getcwd()\n",
        "\n",
        "print(cur_path)\n",
        "cur_path = \"/content/Traffic-Sign-Recognition/Traffic sign classification\""
      ]
    },
    {
      "cell_type": "code",
      "execution_count": 8,
      "metadata": {
        "tags": [],
        "id": "Lz7VaqEomGVC"
      },
      "outputs": [],
      "source": [
        "#Retrieving the images and their labels \n",
        "for i in range(classes):\n",
        "    path = os.path.join(cur_path,'train',str(i))\n",
        "    images = sorted(os.listdir(path))\n",
        "\n",
        "    for a in images:\n",
        "        try:\n",
        "            temp = path + '/' + a\n",
        "            image = Image.open(temp)\n",
        "            image = image.resize((30,30))\n",
        "            image = np.array(image)\n",
        "            #sim = Image.fromarray(image)\n",
        "            data.append(image)\n",
        "            labels.append(i)\n",
        "        except:\n",
        "            print(\"Error loading image\")\n",
        "    \n"
      ]
    },
    {
      "cell_type": "code",
      "execution_count": 9,
      "metadata": {
        "id": "WOZRMfjymGVD",
        "outputId": "f9b3d59b-eb6b-4e4d-9603-ca4e2e1385cc",
        "colab": {
          "base_uri": "https://localhost:8080/"
        }
      },
      "outputs": [
        {
          "output_type": "stream",
          "name": "stdout",
          "text": [
            "(39209, 30, 30, 3) (39209,)\n"
          ]
        }
      ],
      "source": [
        "#Converting lists into numpy arrays\n",
        "data = np.array(data)\n",
        "labels = np.array(labels)\n",
        "\n",
        "print(data.shape, labels.shape)"
      ]
    },
    {
      "cell_type": "code",
      "execution_count": 10,
      "metadata": {
        "id": "ICR2SOCOmGVE",
        "outputId": "e96d1e6a-f4d0-423e-fa95-f76d9819ad28",
        "colab": {
          "base_uri": "https://localhost:8080/"
        }
      },
      "outputs": [
        {
          "output_type": "stream",
          "name": "stdout",
          "text": [
            "(31367, 30, 30, 3) (7842, 30, 30, 3) (31367,) (7842,)\n"
          ]
        },
        {
          "output_type": "execute_result",
          "data": {
            "text/plain": [
              "31367"
            ]
          },
          "metadata": {},
          "execution_count": 10
        }
      ],
      "source": [
        "\n",
        "#Splitting training and testing dataset\n",
        "X_train, X_test, y_train, y_test = train_test_split(data, labels, test_size=0.2, random_state=42)\n",
        "\n",
        "print(X_train.shape, X_test.shape, y_train.shape, y_test.shape)\n",
        "len(y_train)"
      ]
    },
    {
      "cell_type": "code",
      "execution_count": 11,
      "metadata": {
        "id": "HNiAhnZdmGVE"
      },
      "outputs": [],
      "source": [
        "#Converting the labels into one hot encoding\n",
        "y_train = to_categorical(y_train, 43)\n",
        "y_test = to_categorical(y_test, 43)"
      ]
    },
    {
      "cell_type": "code",
      "execution_count": 12,
      "metadata": {
        "id": "wQT5AmR0mGVF"
      },
      "outputs": [],
      "source": [
        "\n",
        "#Building the model\n",
        "model = Sequential()\n",
        "model.add(Conv2D(filters=32, kernel_size=(5,5), activation='relu', input_shape=X_train.shape[1:]))\n",
        "model.add(Conv2D(filters=32, kernel_size=(5,5), activation='relu'))\n",
        "model.add(MaxPool2D(pool_size=(2, 2)))\n",
        "model.add(Dropout(rate=0.25))\n",
        "model.add(Conv2D(filters=64, kernel_size=(3, 3), activation='relu'))\n",
        "model.add(Conv2D(filters=64, kernel_size=(3, 3), activation='relu'))\n",
        "model.add(MaxPool2D(pool_size=(2, 2)))\n",
        "model.add(Dropout(rate=0.25))\n",
        "model.add(Flatten())\n",
        "model.add(Dense(256, activation='relu'))\n",
        "model.add(Dropout(rate=0.5))\n",
        "model.add(Dense(43, activation='softmax'))"
      ]
    },
    {
      "cell_type": "code",
      "execution_count": 13,
      "metadata": {
        "id": "YujhDnw3mGVG",
        "outputId": "0f9b927f-9012-4783-fa1a-b29cfeacf6df",
        "colab": {
          "base_uri": "https://localhost:8080/"
        }
      },
      "outputs": [
        {
          "output_type": "stream",
          "name": "stdout",
          "text": [
            "Epoch 1/15\n",
            "491/491 [==============================] - 15s 7ms/step - loss: 2.2992 - accuracy: 0.4196 - val_loss: 0.8211 - val_accuracy: 0.8210\n",
            "Epoch 2/15\n",
            "491/491 [==============================] - 3s 7ms/step - loss: 1.0032 - accuracy: 0.7115 - val_loss: 0.3708 - val_accuracy: 0.9063\n",
            "Epoch 3/15\n",
            "491/491 [==============================] - 3s 7ms/step - loss: 0.6824 - accuracy: 0.7984 - val_loss: 0.2155 - val_accuracy: 0.9323\n",
            "Epoch 4/15\n",
            "491/491 [==============================] - 3s 6ms/step - loss: 0.4569 - accuracy: 0.8630 - val_loss: 0.1494 - val_accuracy: 0.9578\n",
            "Epoch 5/15\n",
            "491/491 [==============================] - 3s 6ms/step - loss: 0.3294 - accuracy: 0.8999 - val_loss: 0.1197 - val_accuracy: 0.9656\n",
            "Epoch 6/15\n",
            "491/491 [==============================] - 3s 7ms/step - loss: 0.2802 - accuracy: 0.9147 - val_loss: 0.1109 - val_accuracy: 0.9674\n",
            "Epoch 7/15\n",
            "491/491 [==============================] - 3s 7ms/step - loss: 0.2438 - accuracy: 0.9260 - val_loss: 0.1003 - val_accuracy: 0.9728\n",
            "Epoch 8/15\n",
            "491/491 [==============================] - 3s 6ms/step - loss: 0.2209 - accuracy: 0.9354 - val_loss: 0.0854 - val_accuracy: 0.9737\n",
            "Epoch 9/15\n",
            "491/491 [==============================] - 3s 7ms/step - loss: 0.2144 - accuracy: 0.9361 - val_loss: 0.0766 - val_accuracy: 0.9779\n",
            "Epoch 10/15\n",
            "491/491 [==============================] - 4s 9ms/step - loss: 0.1926 - accuracy: 0.9442 - val_loss: 0.0604 - val_accuracy: 0.9844\n",
            "Epoch 11/15\n",
            "491/491 [==============================] - 3s 7ms/step - loss: 0.1779 - accuracy: 0.9497 - val_loss: 0.0525 - val_accuracy: 0.9848\n",
            "Epoch 12/15\n",
            "491/491 [==============================] - 3s 6ms/step - loss: 0.1635 - accuracy: 0.9520 - val_loss: 0.0410 - val_accuracy: 0.9878\n",
            "Epoch 13/15\n",
            "491/491 [==============================] - 3s 6ms/step - loss: 0.1686 - accuracy: 0.9524 - val_loss: 0.0650 - val_accuracy: 0.9802\n",
            "Epoch 14/15\n",
            "491/491 [==============================] - 3s 6ms/step - loss: 0.1513 - accuracy: 0.9575 - val_loss: 0.0415 - val_accuracy: 0.9885\n",
            "Epoch 15/15\n",
            "491/491 [==============================] - 3s 6ms/step - loss: 0.1583 - accuracy: 0.9556 - val_loss: 0.0456 - val_accuracy: 0.9888\n"
          ]
        }
      ],
      "source": [
        "#Compilation of the model\n",
        "model.compile(loss='categorical_crossentropy', optimizer='adam', metrics=['accuracy'])\n",
        "\n",
        "epochs = 15\n",
        "history = model.fit(X_train, y_train, batch_size=64, epochs=epochs, validation_data=(X_test, y_test))\n",
        "model.save(\"my_model.h5\")"
      ]
    },
    {
      "cell_type": "code",
      "execution_count": 14,
      "metadata": {
        "id": "lW1kC4vpmGVH",
        "outputId": "50dfa020-2009-4213-fdd1-85ad1bff4a49",
        "colab": {
          "base_uri": "https://localhost:8080/",
          "height": 295
        }
      },
      "outputs": [
        {
          "output_type": "display_data",
          "data": {
            "text/plain": [
              "<Figure size 432x288 with 1 Axes>"
            ],
            "image/png": "[encoded data removed]"
          },
          "metadata": {
            "needs_background": "light"
          }
        }
      ],
      "source": [
        "#plotting graphs for accuracy \n",
        "plt.figure(0)\n",
        "plt.plot(history.history['accuracy'], label='training accuracy')\n",
        "plt.plot(history.history['val_accuracy'], label='val accuracy')\n",
        "plt.title('Accuracy')\n",
        "plt.xlabel('epochs')\n",
        "plt.ylabel('accuracy')\n",
        "plt.legend()\n",
        "plt.show()"
      ]
    },
    {
      "cell_type": "code",
      "execution_count": 15,
      "metadata": {
        "id": "WTw5n0KKmGVH",
        "outputId": "f3135cff-dd83-4705-a792-8b8e1aba49b7",
        "colab": {
          "base_uri": "https://localhost:8080/",
          "height": 295
        }
      },
      "outputs": [
        {
          "output_type": "display_data",
          "data": {
            "text/plain": [
              "<Figure size 432x288 with 1 Axes>"
            ],
            "image/png": "[encoded data removed]"
          },
          "metadata": {
            "needs_background": "light"
          }
        }
      ],
      "source": [
        "\n",
        "plt.figure(1)\n",
        "plt.plot(history.history['loss'], label='training loss')\n",
        "plt.plot(history.history['val_loss'], label='val loss')\n",
        "plt.title('Loss')\n",
        "plt.xlabel('epochs')\n",
        "plt.ylabel('loss')\n",
        "plt.legend()\n",
        "plt.show()"
      ]
    },
    {
      "cell_type": "code",
      "execution_count": 21,
      "metadata": {
        "id": "QYn_ZCNAmGVI"
      },
      "outputs": [],
      "source": [
        "\n",
        "#testing accuracy on test dataset\n",
        "from sklearn.metrics import accuracy_score\n",
        "\n",
        "y_test = pd.read_csv('/content/Traffic-Sign-Recognition/Traffic sign classification/Test.csv')\n",
        "\n",
        "labels = y_test[\"ClassId\"].values\n",
        "imgs = y_test[\"Path\"].values\n",
        "\n",
        "data=[]\n",
        "\n",
        "for img in imgs:\n",
        "    image = Image.open('/content/Traffic-Sign-Recognition/Traffic sign classification/'+img)\n",
        "    image = image.resize((30,30))\n",
        "    data.append(np.array(image))\n",
        "\n",
        "X_test=np.array(data)\n",
        "#pred = model.predict_classes(X_test)\n",
        "predict_x=model.predict(X_test) \n",
        "pred=np.argmax(predict_x,axis=1)"
      ]
    },
    {
      "cell_type": "code",
      "execution_count": 22,
      "metadata": {
        "id": "V761SR4UmGVJ",
        "outputId": "4767960a-3209-4ba9-a121-ff8062e3e02b",
        "colab": {
          "base_uri": "https://localhost:8080/"
        }
      },
      "outputs": [
        {
          "output_type": "stream",
          "name": "stdout",
          "text": [
            "0.9471100554235946\n"
          ]
        }
      ],
      "source": [
        "\n",
        "\n",
        "#Accuracy with the test data\n",
        "from sklearn.metrics import accuracy_score\n",
        "print(accuracy_score(labels, pred))\n"
      ]
    },
    {
      "cell_type": "code",
      "execution_count": null,
      "metadata": {
        "id": "kv-cmcwemGVJ"
      },
      "outputs": [],
      "source": [
        "model.save('traffic_classifier.h5')"
      ]
    },
    {
      "cell_type": "code",
      "execution_count": null,
      "metadata": {
        "id": "ERj1QKt0mGVK"
      },
      "outputs": [],
      "source": [
        ""
      ]
    }
  ],
  "metadata": {
    "kernelspec": {
      "display_name": "Python 3",
      "language": "python",
      "name": "python3"
    },
    "language_info": {
      "codemirror_mode": {
        "name": "ipython",
        "version": 3
      },
      "file_extension": ".py",
      "mimetype": "text/x-python",
      "name": "python",
      "nbconvert_exporter": "python",
      "pygments_lexer": "ipython3",
      "version": "3.8.2"
    },
    "colab": {
      "name": "traffic_sign1.ipynb",
      "provenance": []
    },
    "accelerator": "GPU",
    "gpuClass": "standard"
  },
  "nbformat": 4,
  "nbformat_minor": 0
}