{
  "cells": [
    {
      "cell_type": "code",
      "execution_count": 216,
      "metadata": {
        "colab": {
          "base_uri": "https://localhost:8080/"
        },
        "id": "YiBRTloCmGU7",
        "outputId": "b5d613a7-e303-452a-8fc3-d80118607e6d"
      },
      "outputs": [
        {
          "output_type": "stream",
          "name": "stdout",
          "text": [
            "fatal: destination path 'Traffic-Sign-Recognition' already exists and is not an empty directory.\n"
          ]
        }
      ],
      "source": [
        "!git clone https://github.com/aebyy/Traffic-Sign-Recognition.git"
      ]
    },
    {
      "cell_type": "code",
      "execution_count": 217,
      "metadata": {
        "id": "chTxW5ppmGU-"
      },
      "outputs": [],
      "source": [
        "import numpy as np \n",
        "import pandas as pd \n",
        "import matplotlib.pyplot as plt\n",
        "import cv2\n",
        "import tensorflow as tf\n",
        "from PIL import Image\n",
        "import os\n",
        "from sklearn.model_selection import train_test_split\n",
        "from tensorflow.keras.utils import to_categorical\n",
        "from keras.models import Sequential, load_model\n",
        "from keras.layers import Conv2D, MaxPool2D, Dense, Flatten, Dropout\n"
      ]
    },
    {
      "cell_type": "code",
      "execution_count": 218,
      "metadata": {
        "colab": {
          "base_uri": "https://localhost:8080/"
        },
        "id": "_cVoXprBmGVB",
        "outputId": "7071b95e-bbe0-4b71-e7a7-bb03525ff462"
      },
      "outputs": [
        {
          "output_type": "stream",
          "name": "stdout",
          "text": [
            "/content\n"
          ]
        }
      ],
      "source": [
        "data = []\n",
        "labels = []\n",
        "classes = 43\n",
        "cur_path = os.getcwd()\n",
        "\n",
        "print(cur_path)\n",
        "cur_path = \"/content/Traffic-Sign-Recognition/Traffic sign classification\""
      ]
    },
    {
      "cell_type": "code",
      "execution_count": 219,
      "metadata": {
        "tags": [],
        "id": "Lz7VaqEomGVC"
      },
      "outputs": [],
      "source": [
        "#Retrieving the images and their labels \n",
        "for i in range(classes):\n",
        "    path = os.path.join(cur_path,'train',str(i))\n",
        "    images = sorted(os.listdir(path))\n",
        "\n",
        "    for a in images:\n",
        "        try:\n",
        "            temp = path + '/' + a\n",
        "            image = Image.open(temp)\n",
        "            image = image.resize((30,30))\n",
        "            image = np.array(image)\n",
        "            #sim = Image.fromarray(image)\n",
        "            data.append(image)\n",
        "            labels.append(i)\n",
        "        except:\n",
        "            print(\"Error loading image\")\n",
        "    \n"
      ]
    },
    {
      "cell_type": "code",
      "execution_count": 220,
      "metadata": {
        "colab": {
          "base_uri": "https://localhost:8080/"
        },
        "id": "WOZRMfjymGVD",
        "outputId": "957493ea-0a88-44c3-cd20-1b357ea84602"
      },
      "outputs": [
        {
          "output_type": "stream",
          "name": "stdout",
          "text": [
            "(39209, 30, 30, 3) (39209,)\n"
          ]
        }
      ],
      "source": [
        "#Converting lists into numpy arrays\n",
        "data = np.array(data)\n",
        "labels = np.array(labels)\n",
        "\n",
        "print(data.shape, labels.shape)"
      ]
    },
    {
      "cell_type": "code",
      "execution_count": 221,
      "metadata": {
        "colab": {
          "base_uri": "https://localhost:8080/"
        },
        "id": "ICR2SOCOmGVE",
        "outputId": "98f8d834-9bb6-4f3f-de60-4fe9203b14c2"
      },
      "outputs": [
        {
          "output_type": "stream",
          "name": "stdout",
          "text": [
            "(31367, 30, 30, 3) (7842, 30, 30, 3) (31367,) (7842,)\n"
          ]
        },
        {
          "output_type": "execute_result",
          "data": {
            "text/plain": [
              "31367"
            ]
          },
          "metadata": {},
          "execution_count": 221
        }
      ],
      "source": [
        "\n",
        "#Splitting training and testing dataset\n",
        "X_train, X_test, y_train, y_test = train_test_split(data, labels, test_size=0.2, random_state=42)\n",
        "\n",
        "print(X_train.shape, X_test.shape, y_train.shape, y_test.shape)\n",
        "len(y_train)"
      ]
    },
    {
      "cell_type": "code",
      "execution_count": 222,
      "metadata": {
        "id": "HNiAhnZdmGVE"
      },
      "outputs": [],
      "source": [
        "#Converting the labels into one hot encoding\n",
        "y_train = to_categorical(y_train, 43)\n",
        "y_test = to_categorical(y_test, 43)"
      ]
    },
    {
      "cell_type": "code",
      "execution_count": 223,
      "metadata": {
        "id": "wQT5AmR0mGVF"
      },
      "outputs": [],
      "source": [
        "\n",
        "#Building the model\n",
        "model = Sequential()\n",
        "model.add(Conv2D(filters=32, kernel_size=(5,5), activation='relu', input_shape=X_train.shape[1:]))\n",
        "model.add(Conv2D(filters=32, kernel_size=(5,5), activation='relu'))\n",
        "model.add(MaxPool2D(pool_size=(2, 2)))\n",
        "model.add(Dropout(rate=0.25))\n",
        "model.add(Conv2D(filters=64, kernel_size=(3, 3), activation='relu'))\n",
        "model.add(Conv2D(filters=64, kernel_size=(3, 3), activation='relu'))\n",
        "model.add(MaxPool2D(pool_size=(2, 2)))\n",
        "model.add(Dropout(rate=0.25))\n",
        "model.add(Flatten())\n",
        "model.add(Dense(256, activation='relu'))\n",
        "model.add(Dropout(rate=0.5))\n",
        "model.add(Dense(43, activation='softmax'))"
      ]
    },
    {
      "cell_type": "code",
      "execution_count": 224,
      "metadata": {
        "colab": {
          "base_uri": "https://localhost:8080/"
        },
        "id": "YujhDnw3mGVG",
        "outputId": "89a57c32-b142-4c68-ad85-26732d42a46e"
      },
      "outputs": [
        {
          "output_type": "stream",
          "name": "stdout",
          "text": [
            "Epoch 1/10\n",
            "981/981 [==============================] - 6s 6ms/step - loss: 2.1501 - accuracy: 0.4618 - val_loss: 0.6465 - val_accuracy: 0.8472\n",
            "Epoch 2/10\n",
            "981/981 [==============================] - 5s 5ms/step - loss: 0.7566 - accuracy: 0.7729 - val_loss: 0.3134 - val_accuracy: 0.9162\n",
            "Epoch 3/10\n",
            "981/981 [==============================] - 5s 5ms/step - loss: 0.5184 - accuracy: 0.8462 - val_loss: 0.1825 - val_accuracy: 0.9538\n",
            "Epoch 4/10\n",
            "981/981 [==============================] - 5s 5ms/step - loss: 0.3900 - accuracy: 0.8856 - val_loss: 0.1334 - val_accuracy: 0.9638\n",
            "Epoch 5/10\n",
            "981/981 [==============================] - 5s 5ms/step - loss: 0.3568 - accuracy: 0.8960 - val_loss: 0.1080 - val_accuracy: 0.9727\n",
            "Epoch 6/10\n",
            "981/981 [==============================] - 5s 5ms/step - loss: 0.2845 - accuracy: 0.9162 - val_loss: 0.0898 - val_accuracy: 0.9744\n",
            "Epoch 7/10\n",
            "981/981 [==============================] - 5s 5ms/step - loss: 0.2657 - accuracy: 0.9245 - val_loss: 0.1074 - val_accuracy: 0.9753\n",
            "Epoch 8/10\n",
            "981/981 [==============================] - 6s 6ms/step - loss: 0.2443 - accuracy: 0.9301 - val_loss: 0.0766 - val_accuracy: 0.9809\n",
            "Epoch 9/10\n",
            "981/981 [==============================] - 5s 5ms/step - loss: 0.2337 - accuracy: 0.9369 - val_loss: 0.0923 - val_accuracy: 0.9718\n",
            "Epoch 10/10\n",
            "981/981 [==============================] - 5s 5ms/step - loss: 0.2390 - accuracy: 0.9351 - val_loss: 0.0672 - val_accuracy: 0.9816\n"
          ]
        }
      ],
      "source": [
        "#Compilation of the model\n",
        "model.compile(loss='categorical_crossentropy', optimizer='adam', metrics=['accuracy'])\n",
        "\n",
        "epochs = 10\n",
        "history = model.fit(X_train, y_train, batch_size=32, epochs=epochs, validation_data=(X_test, y_test))\n",
        "model.save(\"my_model.h5\")"
      ]
    },
    {
      "cell_type": "code",
      "execution_count": 225,
      "metadata": {
        "colab": {
          "base_uri": "https://localhost:8080/",
          "height": 295
        },
        "id": "lW1kC4vpmGVH",
        "outputId": "db4347a3-15d1-4d88-ec49-76e7f4cd9c71"
      },
      "outputs": [
        {
          "output_type": "display_data",
          "data": {
            "text/plain": [
              "<Figure size 432x288 with 1 Axes>"
            ],
            "image/png": "[encoded data removed]"
          },
          "metadata": {
            "needs_background": "light"
          }
        }
      ],
      "source": [
        "#plotting graphs for accuracy \n",
        "plt.figure(0)\n",
        "plt.plot(history.history['accuracy'], label='training accuracy')\n",
        "plt.plot(history.history['val_accuracy'], label='val accuracy')\n",
        "plt.title('Accuracy')\n",
        "plt.xlabel('epochs')\n",
        "plt.ylabel('accuracy')\n",
        "plt.legend()\n",
        "plt.show()"
      ]
    },
    {
      "cell_type": "code",
      "execution_count": 226,
      "metadata": {
        "colab": {
          "base_uri": "https://localhost:8080/",
          "height": 295
        },
        "id": "WTw5n0KKmGVH",
        "outputId": "15211776-af07-4a50-b5c2-9f44755f11f8"
      },
      "outputs": [
        {
          "output_type": "display_data",
          "data": {
            "text/plain": [
              "<Figure size 432x288 with 1 Axes>"
            ],
            "image/png": "[encoded data removed]"
          },
          "metadata": {
            "needs_background": "light"
          }
        }
      ],
      "source": [
        "\n",
        "plt.figure(1)\n",
        "plt.plot(history.history['loss'], label='training loss')\n",
        "plt.plot(history.history['val_loss'], label='val loss')\n",
        "plt.title('Loss')\n",
        "plt.xlabel('epochs')\n",
        "plt.ylabel('loss')\n",
        "plt.legend()\n",
        "plt.show()"
      ]
    },
    {
      "cell_type": "code",
      "execution_count": 227,
      "metadata": {
        "id": "QYn_ZCNAmGVI"
      },
      "outputs": [],
      "source": [
        "\n",
        "#testing accuracy on test dataset\n",
        "from sklearn.metrics import accuracy_score\n",
        "\n",
        "y_test = pd.read_csv('/content/Traffic-Sign-Recognition/Traffic sign classification/Test.csv')\n",
        "\n",
        "labels = y_test[\"ClassId\"].values\n",
        "imgs = y_test[\"Path\"].values\n",
        "\n",
        "data=[]\n",
        "\n",
        "for img in imgs:\n",
        "    image = Image.open('/content/Traffic-Sign-Recognition/Traffic sign classification/'+img)\n",
        "    image = image.resize((30,30))\n",
        "    data.append(np.array(image))\n",
        "\n",
        "X_test=np.array(data)\n",
        "# predict_x=model.predict(X_test) \n",
        "# pred=np.argmax(predict_x,axis=1)\n",
        "predict_x=(model.predict(X_test) > 0.5).astype(\"int32\") \n",
        "pred=np.argmax(predict_x,axis=1)"
      ]
    },
    {
      "cell_type": "code",
      "execution_count": 228,
      "metadata": {
        "colab": {
          "base_uri": "https://localhost:8080/"
        },
        "id": "V761SR4UmGVJ",
        "outputId": "62ad82b5-0cdb-47ce-e608-9e29593d7fe0"
      },
      "outputs": [
        {
          "output_type": "stream",
          "name": "stdout",
          "text": [
            "0.9368171021377673\n"
          ]
        }
      ],
      "source": [
        "\n",
        "\n",
        "#Accuracy with the test data\n",
        "from sklearn.metrics import accuracy_score\n",
        "print(accuracy_score(labels, pred))\n"
      ]
    },
    {
      "cell_type": "code",
      "execution_count": 229,
      "metadata": {
        "id": "kv-cmcwemGVJ"
      },
      "outputs": [],
      "source": [
        "#model.save('traffic_classifier.h5')"
      ]
    },
    {
      "cell_type": "code",
      "execution_count": 229,
      "metadata": {
        "id": "ERj1QKt0mGVK"
      },
      "outputs": [],
      "source": [
        ""
      ]
    }
  ],
  "metadata": {
    "kernelspec": {
      "display_name": "Python 3",
      "language": "python",
      "name": "python3"
    },
    "language_info": {
      "codemirror_mode": {
        "name": "ipython",
        "version": 3
      },
      "file_extension": ".py",
      "mimetype": "text/x-python",
      "name": "python",
      "nbconvert_exporter": "python",
      "pygments_lexer": "ipython3",
      "version": "3.8.2"
    },
    "colab": {
      "name": "traffic_sign1.ipynb",
      "provenance": []
    },
    "accelerator": "GPU",
    "gpuClass": "standard"
  },
  "nbformat": 4,
  "nbformat_minor": 0
}